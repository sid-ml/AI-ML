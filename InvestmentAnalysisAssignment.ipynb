{
 "cells": [
  {
   "cell_type": "markdown",
   "metadata": {},
   "source": [
    "Installing Unidecode library on current Jupyter Kernel, this library is used for decoding the non-ascii characters"
   ]
  },
  {
   "cell_type": "code",
   "execution_count": 1,
   "metadata": {},
   "outputs": [
    {
     "name": "stdout",
     "output_type": "stream",
     "text": [
      "Requirement already satisfied: Unidecode in c:\\users\\sidas\\appdata\\local\\continuum\\anaconda3\\lib\\site-packages (1.0.23)\n"
     ]
    }
   ],
   "source": [
    "import sys\n",
    "!{sys.executable} -m pip install Unidecode"
   ]
  },
  {
   "cell_type": "code",
   "execution_count": 1,
   "metadata": {},
   "outputs": [],
   "source": [
    "#please install Unidecode library if not present\n",
    "#pip install Unidecode\n",
    "\n",
    "import pandas as pd\n",
    "import numpy as np\n",
    "import matplotlib.pyplot as plt\n",
    "from unidecode import unidecode\n",
    "from matplotlib.ticker import FuncFormatter\n",
    "%config IPCompleter.greedy=True\n",
    "%matplotlib inline"
   ]
  },
  {
   "cell_type": "code",
   "execution_count": 2,
   "metadata": {},
   "outputs": [],
   "source": [
    "pd.options.display.float_format = '{:.2f}'.format"
   ]
  },
  {
   "cell_type": "markdown",
   "metadata": {},
   "source": [
    "Reading all the input files and creating dataframes"
   ]
  },
  {
   "cell_type": "code",
   "execution_count": 3,
   "metadata": {},
   "outputs": [],
   "source": [
    "#read files\n",
    "c_df = pd.read_csv('data/companies.txt', sep='\\t', encoding='latin-1',skip_blank_lines=True)\n",
    "r2_df = pd.read_csv('data/rounds2.csv', sep=',' ,encoding='latin-1',skip_blank_lines=True)\n",
    "map_df=pd.read_csv('data/mapping.csv', sep=',',skip_blank_lines=True)\n",
    "\n",
    "#conver everything to lower case\n",
    "c_df = c_df.applymap(lambda s:s.lower() if type(s) == str else s)\n",
    "r2_df = r2_df.applymap(lambda s:s.lower() if type(s) == str else s)\n",
    "map_df = map_df.applymap(lambda s:s.lower() if type(s) == str else s)\n",
    "#convert country code to Upper case\n",
    "c_df['country_code'] = c_df['country_code'].apply(lambda s:s.upper() if type(s) == str else s)\n",
    "\n",
    "#decoding the permalink from c_df and r_df\n",
    "c_df['permalink']=c_df['permalink'].apply( lambda x:  unidecode(x) if type(x)==str else x)\n",
    "r2_df['company_permalink']=r2_df['company_permalink'].apply( lambda x:  unidecode(x) if type(x)==str else x)\n",
    "\n",
    "\n",
    "#melt mapping file\n",
    "mapping =pd.melt(map_df,id_vars='category_list', var_name='main_sector')\n",
    "mapping=mapping[mapping.value!=0]\n",
    "mapping['category']=mapping['category_list'].apply(lambda s: s.replace('0','na') if type(s)==str else s)\n",
    "mapping.drop('category_list', axis=1,inplace =True)\n",
    "mapping=mapping.set_index('category').reset_index()\n",
    "mapping=mapping.dropna(axis=0) \n",
    "\n",
    "\n"
   ]
  },
  {
   "cell_type": "markdown",
   "metadata": {},
   "source": [
    "## Checkpoint 1: Data Cleaning 1"
   ]
  },
  {
   "cell_type": "markdown",
   "metadata": {},
   "source": [
    "Assumptions:\n",
    "<li>I have not done the data cleaning on Null or NaN, as we are filtering the data based on country and raised amount, there is no need to remove or impute any data.</li>\n",
    "<li>NaN on raised amount are taken care as the aggregate functions will ignore NaN/null for any calculations.</li>\n",
    "<li>Removing the data before will change the unique number of companies</li>"
   ]
  },
  {
   "cell_type": "markdown",
   "metadata": {},
   "source": [
    "Cleaning the data by fixing the data encoding issue"
   ]
  },
  {
   "cell_type": "code",
   "execution_count": 5,
   "metadata": {},
   "outputs": [],
   "source": [
    "r2_df.at[31863, 'company_permalink'] = c_df.at[18197, 'permalink']\n",
    "r2_df.at[45176, 'company_permalink'] =c_df.at[26139, 'permalink']\n",
    "r2_df.at[101036, 'company_permalink'] =c_df.at[58344, 'permalink']\n"
   ]
  },
  {
   "cell_type": "markdown",
   "metadata": {},
   "source": [
    " Q1. Number of unique companies in companies.txt?"
   ]
  },
  {
   "cell_type": "markdown",
   "metadata": {},
   "source": [
    "qQ2. Number of Unique Companies in round2?"
   ]
  },
  {
   "cell_type": "code",
   "execution_count": 6,
   "metadata": {},
   "outputs": [
    {
     "name": "stdout",
     "output_type": "stream",
     "text": [
      "companies_unique_count : 66368\n",
      "round2_unique_count : 66369\n"
     ]
    }
   ],
   "source": [
    "companies_unique_count = c_df['permalink'].nunique()\n",
    "round2_unique_count = r2_df['company_permalink'].nunique()\n",
    "print('companies_unique_count : ' + str(companies_unique_count) )\n",
    "print('round2_unique_count : ' + str(round2_unique_count))"
   ]
  },
  {
   "cell_type": "markdown",
   "metadata": {},
   "source": [
    "Q3. If both files have same companies?"
   ]
  },
  {
   "cell_type": "code",
   "execution_count": 7,
   "metadata": {},
   "outputs": [
    {
     "name": "stdout",
     "output_type": "stream",
     "text": [
      "58473    /organization/magnet-tech-cPSc3cSSae\n",
      "Name: company_permalink, dtype: object\n",
      "No\n"
     ]
    }
   ],
   "source": [
    "df1=c_df['permalink']\n",
    "df2=r2_df['company_permalink']\n",
    "diff2 =df2[~df2.isin(df1)].dropna()\n",
    "print(diff2)\n",
    "print('No')\n",
    "\n",
    "\n"
   ]
  },
  {
   "cell_type": "markdown",
   "metadata": {},
   "source": [
    "Q4. Shape of master data?"
   ]
  },
  {
   "cell_type": "code",
   "execution_count": 8,
   "metadata": {},
   "outputs": [
    {
     "data": {
      "text/plain": [
       "(114948, 15)"
      ]
     },
     "execution_count": 8,
     "metadata": {},
     "output_type": "execute_result"
    }
   ],
   "source": [
    "#merging companies and round2 dataset\n",
    "\n",
    "master_frame=pd.merge(c_df,r2_df,how='inner', left_on='permalink', right_on='company_permalink' )\n",
    "master_frame.drop('company_permalink', axis=1, inplace=True)\n",
    "\n",
    "master_frame.shape"
   ]
  },
  {
   "cell_type": "markdown",
   "metadata": {},
   "source": [
    "## Checkpoint 2: Funding Type Analysis"
   ]
  },
  {
   "cell_type": "markdown",
   "metadata": {},
   "source": [
    "Q1. Calculate the most representative value (median) of the investment amount for each of the four funding types (venture, angel, seed, and private equity) a"
   ]
  },
  {
   "cell_type": "code",
   "execution_count": 9,
   "metadata": {},
   "outputs": [
    {
     "data": {
      "text/plain": [
       "19990"
      ]
     },
     "execution_count": 9,
     "metadata": {},
     "output_type": "execute_result"
    }
   ],
   "source": [
    "#null in raised_amount_usd\n",
    "master_frame['raised_amount_usd'].isnull().sum()"
   ]
  },
  {
   "cell_type": "markdown",
   "metadata": {},
   "source": [
    "There are 19987 null rows in raised_amount_usd column, the aggregate functions will take care of these missing values, we will be ignoring these values in further calculations"
   ]
  },
  {
   "cell_type": "code",
   "execution_count": 10,
   "metadata": {},
   "outputs": [],
   "source": [
    "#Creating grouped df \n",
    "funding_analysis_df_mean=master_frame.groupby('funding_round_type').mean()\n",
    "funding_analysis_df_mean=funding_analysis_df_mean.sort_values('raised_amount_usd')\n",
    "funding_analysis_df_mean=funding_analysis_df_mean.reset_index()\n"
   ]
  },
  {
   "cell_type": "markdown",
   "metadata": {},
   "source": [
    "Q. Considering that Spark Funds wants to invest between 5 to 15 million USD per  investment round, which investment type is the most suitable for them?\n"
   ]
  },
  {
   "cell_type": "code",
   "execution_count": 11,
   "metadata": {},
   "outputs": [
    {
     "data": {
      "image/png": "[encoded data removed]",
      "text/plain": [
       "<Figure size 720x360 with 1 Axes>"
      ]
     },
     "metadata": {
      "needs_background": "light"
     },
     "output_type": "display_data"
    },
    {
     "data": {
      "text/html": [
       "<div>\n",
       "<style scoped>\n",
       "    .dataframe tbody tr th:only-of-type {\n",
       "        vertical-align: middle;\n",
       "    }\n",
       "\n",
       "    .dataframe tbody tr th {\n",
       "        vertical-align: top;\n",
       "    }\n",
       "\n",
       "    .dataframe thead th {\n",
       "        text-align: right;\n",
       "    }\n",
       "</style>\n",
       "<table border=\"1\" class=\"dataframe\">\n",
       "  <thead>\n",
       "    <tr style=\"text-align: right;\">\n",
       "      <th></th>\n",
       "      <th>funding_round_type</th>\n",
       "      <th>raised_amount_usd</th>\n",
       "    </tr>\n",
       "  </thead>\n",
       "  <tbody>\n",
       "    <tr>\n",
       "      <th>7</th>\n",
       "      <td>venture</td>\n",
       "      <td>11748949.13</td>\n",
       "    </tr>\n",
       "  </tbody>\n",
       "</table>\n",
       "</div>"
      ],
      "text/plain": [
       "  funding_round_type  raised_amount_usd\n",
       "7            venture        11748949.13"
      ]
     },
     "execution_count": 11,
     "metadata": {},
     "output_type": "execute_result"
    }
   ],
   "source": [
    "def millions(x, pos):\n",
    "    'The two args are the value and tick position'\n",
    "    return '$%1.1fM' % (x * 1e-6)\n",
    "\n",
    "plt.rcParams['figure.figsize'] = [10, 5]\n",
    "formatter = FuncFormatter(millions)\n",
    "fig, ax = plt.subplots()\n",
    "ax.yaxis.set_major_formatter(formatter)\n",
    "\n",
    "#df.sort_values('raised_amount_usd')\n",
    "plt.xlabel('funding_round_type')\n",
    "plt.ylabel('raised_amount_usd')\n",
    "#plt.yscale('log')\n",
    "plt.bar(funding_analysis_df_mean['funding_round_type'],funding_analysis_df_mean['raised_amount_usd'])\n",
    "plt.xticks(rotation=90)\n",
    "plt.show()\n",
    "\n",
    "funding_analysis_df_mean.loc[(funding_analysis_df_mean.raised_amount_usd>=5000000) & (funding_analysis_df_mean.raised_amount_usd<=15000000)]"
   ]
  },
  {
   "cell_type": "code",
   "execution_count": 12,
   "metadata": {},
   "outputs": [
    {
     "data": {
      "text/html": [
       "<div>\n",
       "<style scoped>\n",
       "    .dataframe tbody tr th:only-of-type {\n",
       "        vertical-align: middle;\n",
       "    }\n",
       "\n",
       "    .dataframe tbody tr th {\n",
       "        vertical-align: top;\n",
       "    }\n",
       "\n",
       "    .dataframe thead th {\n",
       "        text-align: right;\n",
       "    }\n",
       "</style>\n",
       "<table border=\"1\" class=\"dataframe\">\n",
       "  <thead>\n",
       "    <tr style=\"text-align: right;\">\n",
       "      <th></th>\n",
       "      <th>funding_round_type</th>\n",
       "      <th>raised_amount_usd</th>\n",
       "    </tr>\n",
       "  </thead>\n",
       "  <tbody>\n",
       "    <tr>\n",
       "      <th>0</th>\n",
       "      <td>non_equity_assistance</td>\n",
       "      <td>411203.05</td>\n",
       "    </tr>\n",
       "    <tr>\n",
       "      <th>1</th>\n",
       "      <td>equity_crowdfunding</td>\n",
       "      <td>538368.21</td>\n",
       "    </tr>\n",
       "    <tr>\n",
       "      <th>2</th>\n",
       "      <td>seed</td>\n",
       "      <td>719779.62</td>\n",
       "    </tr>\n",
       "    <tr>\n",
       "      <th>3</th>\n",
       "      <td>angel</td>\n",
       "      <td>958694.47</td>\n",
       "    </tr>\n",
       "    <tr>\n",
       "      <th>4</th>\n",
       "      <td>product_crowdfunding</td>\n",
       "      <td>1363131.07</td>\n",
       "    </tr>\n",
       "    <tr>\n",
       "      <th>5</th>\n",
       "      <td>convertible_note</td>\n",
       "      <td>1453438.54</td>\n",
       "    </tr>\n",
       "    <tr>\n",
       "      <th>6</th>\n",
       "      <td>grant</td>\n",
       "      <td>4300576.34</td>\n",
       "    </tr>\n",
       "    <tr>\n",
       "      <th>7</th>\n",
       "      <td>venture</td>\n",
       "      <td>11748949.13</td>\n",
       "    </tr>\n",
       "    <tr>\n",
       "      <th>8</th>\n",
       "      <td>debt_financing</td>\n",
       "      <td>17043526.02</td>\n",
       "    </tr>\n",
       "    <tr>\n",
       "      <th>9</th>\n",
       "      <td>undisclosed</td>\n",
       "      <td>19242370.23</td>\n",
       "    </tr>\n",
       "    <tr>\n",
       "      <th>10</th>\n",
       "      <td>private_equity</td>\n",
       "      <td>73308593.03</td>\n",
       "    </tr>\n",
       "    <tr>\n",
       "      <th>11</th>\n",
       "      <td>secondary_market</td>\n",
       "      <td>79649630.10</td>\n",
       "    </tr>\n",
       "    <tr>\n",
       "      <th>12</th>\n",
       "      <td>post_ipo_equity</td>\n",
       "      <td>82182493.87</td>\n",
       "    </tr>\n",
       "    <tr>\n",
       "      <th>13</th>\n",
       "      <td>post_ipo_debt</td>\n",
       "      <td>168704571.82</td>\n",
       "    </tr>\n",
       "  </tbody>\n",
       "</table>\n",
       "</div>"
      ],
      "text/plain": [
       "       funding_round_type  raised_amount_usd\n",
       "0   non_equity_assistance          411203.05\n",
       "1     equity_crowdfunding          538368.21\n",
       "2                    seed          719779.62\n",
       "3                   angel          958694.47\n",
       "4    product_crowdfunding         1363131.07\n",
       "5        convertible_note         1453438.54\n",
       "6                   grant         4300576.34\n",
       "7                 venture        11748949.13\n",
       "8          debt_financing        17043526.02\n",
       "9             undisclosed        19242370.23\n",
       "10         private_equity        73308593.03\n",
       "11       secondary_market        79649630.10\n",
       "12        post_ipo_equity        82182493.87\n",
       "13          post_ipo_debt       168704571.82"
      ]
     },
     "execution_count": 12,
     "metadata": {},
     "output_type": "execute_result"
    }
   ],
   "source": [
    "funding_analysis_df_mean"
   ]
  },
  {
   "cell_type": "markdown",
   "metadata": {},
   "source": [
    "We can clearly see that the average amount of funding for venture only lies between 5 to 15 Million$, we can also confirm this with the number of funding in venture within this range"
   ]
  },
  {
   "cell_type": "markdown",
   "metadata": {},
   "source": [
    "Checking the number of investments in different funding types for investment amount between 5-15Million$"
   ]
  },
  {
   "cell_type": "code",
   "execution_count": 13,
   "metadata": {},
   "outputs": [
    {
     "data": {
      "image/png": "[encoded data removed]",
      "text/plain": [
       "<Figure size 720x360 with 1 Axes>"
      ]
     },
     "metadata": {
      "needs_background": "light"
     },
     "output_type": "display_data"
    },
    {
     "name": "stdout",
     "output_type": "stream",
     "text": [
      "Investment type do you think is the most suitable for Spark Funds : venture\n"
     ]
    }
   ],
   "source": [
    "filter_df= master_frame.loc[(master_frame.raised_amount_usd>=5000000) & (master_frame.raised_amount_usd<=15000000)]\n",
    "s_funding_type=filter_df.funding_round_type.value_counts()\n",
    "plt.title('No. of Investments in different funding types for range between 5 to 15 million $')\n",
    "plt.xlabel('Investment Type')\n",
    "plt.ylabel('Number of Investment')\n",
    "plt.bar(s_funding_type.index,s_funding_type)\n",
    "plt.xticks(rotation=90)\n",
    "plt.show()\n",
    "\n",
    "investment_type =s_funding_type.idxmax()\n",
    "print ('Investment type do you think is the most suitable for Spark Funds : ' + investment_type)"
   ]
  },
  {
   "cell_type": "markdown",
   "metadata": {},
   "source": [
    "We can see a clear spike for venture, which means most of the investments are done in venture for amount between 5-15M$"
   ]
  },
  {
   "cell_type": "markdown",
   "metadata": {},
   "source": [
    "\n",
    "## Checkpoint 3: Country Analysis"
   ]
  },
  {
   "cell_type": "markdown",
   "metadata": {},
   "source": [
    "I have manually created all the country where English is official language"
   ]
  },
  {
   "cell_type": "code",
   "execution_count": 14,
   "metadata": {},
   "outputs": [],
   "source": [
    "list_en=['ATG','AUS','BHS','BHR','BGD','BRB','BLZ','BWA','BDI','CMR','CAN','COK','CYP','DMA','ERI','ETH','FJI','GMB','GHA','GRD','GUY','IND','IRL','ISR','JAM','JOR','KEN','KIR','KWT','LSO','LBR','MWI','MYS','MDV','MLT','MHL','MUS','FSM','MMR','NAM','NRU','NZL','NGA','NIU','PAK','PLW','PNG','PHL','QAT','RWA','KNA','LCA','VCT','WSM','SYC','SLE','SGP','SLB','ZAF','LKA','SDN','SWZ','TZA','TON','TTO','TUV','UGA','ARE','GBR','USA','VUT','ZMB','ZWE']\n",
    "series_en=pd.Series(list_en)\n",
    "#series_en.head()\n",
    "                "
   ]
  },
  {
   "cell_type": "markdown",
   "metadata": {},
   "source": [
    "For the chosen investment type, make a data frame named top9 with the top nine countries (based on the total investment amount each country has received)"
   ]
  },
  {
   "cell_type": "code",
   "execution_count": 15,
   "metadata": {},
   "outputs": [
    {
     "data": {
      "text/html": [
       "<div>\n",
       "<style scoped>\n",
       "    .dataframe tbody tr th:only-of-type {\n",
       "        vertical-align: middle;\n",
       "    }\n",
       "\n",
       "    .dataframe tbody tr th {\n",
       "        vertical-align: top;\n",
       "    }\n",
       "\n",
       "    .dataframe thead th {\n",
       "        text-align: right;\n",
       "    }\n",
       "</style>\n",
       "<table border=\"1\" class=\"dataframe\">\n",
       "  <thead>\n",
       "    <tr style=\"text-align: right;\">\n",
       "      <th></th>\n",
       "      <th>country_code</th>\n",
       "      <th>raised_amount_usd</th>\n",
       "    </tr>\n",
       "  </thead>\n",
       "  <tbody>\n",
       "    <tr>\n",
       "      <th>0</th>\n",
       "      <td>USA</td>\n",
       "      <td>422510842796.00</td>\n",
       "    </tr>\n",
       "    <tr>\n",
       "      <th>1</th>\n",
       "      <td>CHN</td>\n",
       "      <td>39835418773.00</td>\n",
       "    </tr>\n",
       "    <tr>\n",
       "      <th>2</th>\n",
       "      <td>GBR</td>\n",
       "      <td>20245627416.00</td>\n",
       "    </tr>\n",
       "    <tr>\n",
       "      <th>3</th>\n",
       "      <td>IND</td>\n",
       "      <td>14391858718.00</td>\n",
       "    </tr>\n",
       "    <tr>\n",
       "      <th>4</th>\n",
       "      <td>CAN</td>\n",
       "      <td>9583332317.00</td>\n",
       "    </tr>\n",
       "    <tr>\n",
       "      <th>5</th>\n",
       "      <td>FRA</td>\n",
       "      <td>7259536732.00</td>\n",
       "    </tr>\n",
       "    <tr>\n",
       "      <th>6</th>\n",
       "      <td>ISR</td>\n",
       "      <td>6907514579.00</td>\n",
       "    </tr>\n",
       "    <tr>\n",
       "      <th>7</th>\n",
       "      <td>DEU</td>\n",
       "      <td>6346959822.00</td>\n",
       "    </tr>\n",
       "    <tr>\n",
       "      <th>8</th>\n",
       "      <td>JPN</td>\n",
       "      <td>3363676611.00</td>\n",
       "    </tr>\n",
       "    <tr>\n",
       "      <th>9</th>\n",
       "      <td>SWE</td>\n",
       "      <td>3254952563.00</td>\n",
       "    </tr>\n",
       "  </tbody>\n",
       "</table>\n",
       "</div>"
      ],
      "text/plain": [
       "  country_code  raised_amount_usd\n",
       "0          USA    422510842796.00\n",
       "1          CHN     39835418773.00\n",
       "2          GBR     20245627416.00\n",
       "3          IND     14391858718.00\n",
       "4          CAN      9583332317.00\n",
       "5          FRA      7259536732.00\n",
       "6          ISR      6907514579.00\n",
       "7          DEU      6346959822.00\n",
       "8          JPN      3363676611.00\n",
       "9          SWE      3254952563.00"
      ]
     },
     "execution_count": 15,
     "metadata": {},
     "output_type": "execute_result"
    }
   ],
   "source": [
    "venture_df=master_frame[master_frame['funding_round_type']==investment_type]\n",
    "\n",
    "top_countries_df=venture_df.groupby('country_code').sum()\n",
    "top_countries_df=top_countries_df.sort_values(by=['raised_amount_usd'], ascending=False)\n",
    "top_countries_df=top_countries_df.reset_index()\n",
    "top_countries_df.head(10)\n"
   ]
  },
  {
   "cell_type": "markdown",
   "metadata": {},
   "source": [
    "Analysing the Top 3 English-Speaking Countries\n"
   ]
  },
  {
   "cell_type": "code",
   "execution_count": 16,
   "metadata": {},
   "outputs": [
    {
     "name": "stdout",
     "output_type": "stream",
     "text": [
      "Top nine countries (based on the total investment amount each country has received)\n"
     ]
    },
    {
     "data": {
      "text/plain": [
       "0    USA\n",
       "1    CHN\n",
       "2    GBR\n",
       "3    IND\n",
       "4    CAN\n",
       "5    FRA\n",
       "6    ISR\n",
       "7    DEU\n",
       "8    JPN\n",
       "Name: country_code, dtype: object"
      ]
     },
     "execution_count": 16,
     "metadata": {},
     "output_type": "execute_result"
    }
   ],
   "source": [
    "top9=top_countries_df.head(9)\n",
    "print('Top nine countries (based on the total investment amount each country has received)')\n",
    "top9['country_code']"
   ]
  },
  {
   "cell_type": "markdown",
   "metadata": {},
   "source": [
    "Analysing the Top 3 English-Speaking Countries\t\t\n"
   ]
  },
  {
   "cell_type": "code",
   "execution_count": 17,
   "metadata": {},
   "outputs": [
    {
     "data": {
      "text/plain": [
       "['USA', 'GBR', 'IND']"
      ]
     },
     "execution_count": 17,
     "metadata": {},
     "output_type": "execute_result"
    }
   ],
   "source": [
    "top_3_countrycode = top9['country_code'][top9['country_code'].isin(list_en)].head(3).tolist()\n",
    "(top_3_countrycode)"
   ]
  },
  {
   "cell_type": "markdown",
   "metadata": {},
   "source": [
    "## Checkpoint 4: Sector Analysis 1"
   ]
  },
  {
   "cell_type": "markdown",
   "metadata": {},
   "source": [
    "the first string before the vertical bar will be considered the primary sector.  \n",
    "Code for a merged data frame with each primary sector mapped to its main sector (the primary sector should be present in a separate column)."
   ]
  },
  {
   "cell_type": "code",
   "execution_count": 18,
   "metadata": {},
   "outputs": [
    {
     "data": {
      "text/html": [
       "<div>\n",
       "<style scoped>\n",
       "    .dataframe tbody tr th:only-of-type {\n",
       "        vertical-align: middle;\n",
       "    }\n",
       "\n",
       "    .dataframe tbody tr th {\n",
       "        vertical-align: top;\n",
       "    }\n",
       "\n",
       "    .dataframe thead th {\n",
       "        text-align: right;\n",
       "    }\n",
       "</style>\n",
       "<table border=\"1\" class=\"dataframe\">\n",
       "  <thead>\n",
       "    <tr style=\"text-align: right;\">\n",
       "      <th></th>\n",
       "      <th>permalink</th>\n",
       "      <th>name</th>\n",
       "      <th>homepage_url</th>\n",
       "      <th>category_list</th>\n",
       "      <th>status</th>\n",
       "      <th>country_code</th>\n",
       "      <th>state_code</th>\n",
       "      <th>region</th>\n",
       "      <th>city</th>\n",
       "      <th>founded_at</th>\n",
       "      <th>funding_round_permalink</th>\n",
       "      <th>funding_round_type</th>\n",
       "      <th>funding_round_code</th>\n",
       "      <th>funded_at</th>\n",
       "      <th>raised_amount_usd</th>\n",
       "      <th>primary_sector</th>\n",
       "      <th>main_sector</th>\n",
       "    </tr>\n",
       "  </thead>\n",
       "  <tbody>\n",
       "    <tr>\n",
       "      <th>0</th>\n",
       "      <td>/organization/-fame</td>\n",
       "      <td>#fame</td>\n",
       "      <td>http://livfame.com</td>\n",
       "      <td>media</td>\n",
       "      <td>operating</td>\n",
       "      <td>IND</td>\n",
       "      <td>16</td>\n",
       "      <td>mumbai</td>\n",
       "      <td>mumbai</td>\n",
       "      <td>NaN</td>\n",
       "      <td>/funding-round/9a01d05418af9f794eebff7ace91f638</td>\n",
       "      <td>venture</td>\n",
       "      <td>b</td>\n",
       "      <td>5/1/2015</td>\n",
       "      <td>10000000.00</td>\n",
       "      <td>media</td>\n",
       "      <td>Entertainment</td>\n",
       "    </tr>\n",
       "    <tr>\n",
       "      <th>1</th>\n",
       "      <td>/organization/-qounter</td>\n",
       "      <td>:qounter</td>\n",
       "      <td>http://www.qounter.com</td>\n",
       "      <td>application platforms|real time|social network...</td>\n",
       "      <td>operating</td>\n",
       "      <td>USA</td>\n",
       "      <td>de</td>\n",
       "      <td>de - other</td>\n",
       "      <td>delaware city</td>\n",
       "      <td>04-09-2014</td>\n",
       "      <td>/funding-round/22dacff496eb7acb2b901dec1dfe5633</td>\n",
       "      <td>venture</td>\n",
       "      <td>a</td>\n",
       "      <td>14-10-2014</td>\n",
       "      <td>nan</td>\n",
       "      <td>application platforms</td>\n",
       "      <td>News, Search and Messaging</td>\n",
       "    </tr>\n",
       "  </tbody>\n",
       "</table>\n",
       "</div>"
      ],
      "text/plain": [
       "                permalink      name            homepage_url  \\\n",
       "0     /organization/-fame     #fame      http://livfame.com   \n",
       "1  /organization/-qounter  :qounter  http://www.qounter.com   \n",
       "\n",
       "                                       category_list     status country_code  \\\n",
       "0                                              media  operating          IND   \n",
       "1  application platforms|real time|social network...  operating          USA   \n",
       "\n",
       "  state_code      region           city  founded_at  \\\n",
       "0         16      mumbai         mumbai         NaN   \n",
       "1         de  de - other  delaware city  04-09-2014   \n",
       "\n",
       "                           funding_round_permalink funding_round_type  \\\n",
       "0  /funding-round/9a01d05418af9f794eebff7ace91f638            venture   \n",
       "1  /funding-round/22dacff496eb7acb2b901dec1dfe5633            venture   \n",
       "\n",
       "  funding_round_code   funded_at  raised_amount_usd         primary_sector  \\\n",
       "0                  b    5/1/2015        10000000.00                  media   \n",
       "1                  a  14-10-2014                nan  application platforms   \n",
       "\n",
       "                  main_sector  \n",
       "0               Entertainment  \n",
       "1  News, Search and Messaging  "
      ]
     },
     "execution_count": 18,
     "metadata": {},
     "output_type": "execute_result"
    }
   ],
   "source": [
    "#splitting the column value by | and accepting the first field as primary sector\n",
    "master_frame['primary_sector'] = master_frame['category_list'].apply(lambda s: s.split('|')[0] if type(s)==str else s)\n",
    "merged_df= pd.merge(master_frame, mapping[['category','main_sector']], how='left', left_on='primary_sector', right_on='category')\n",
    "merged_df.drop('category', axis=1, inplace=True)\n",
    "merged_df.head(2)"
   ]
  },
  {
   "cell_type": "markdown",
   "metadata": {},
   "source": [
    "## Checkpoint 5: Sector Analysis 2"
   ]
  },
  {
   "cell_type": "code",
   "execution_count": 19,
   "metadata": {},
   "outputs": [],
   "source": [
    "sector_analysis = merged_df[(merged_df['country_code'].isin(top_3_countrycode)) & (merged_df['funding_round_type']==investment_type) & (merged_df.raised_amount_usd.between(left=5000000, right=15000000))]"
   ]
  },
  {
   "cell_type": "markdown",
   "metadata": {},
   "source": [
    "Creating Dataframe for top 3 country"
   ]
  },
  {
   "cell_type": "code",
   "execution_count": 20,
   "metadata": {},
   "outputs": [],
   "source": [
    "d1 = sector_analysis[sector_analysis['country_code']==top_3_countrycode[0]]\n",
    "d2 = sector_analysis[sector_analysis['country_code']==top_3_countrycode[1]]\n",
    "d3 = sector_analysis[sector_analysis['country_code']==top_3_countrycode[2]]"
   ]
  },
  {
   "cell_type": "markdown",
   "metadata": {},
   "source": [
    "Create Data frame for:\n",
    "    <li>The total number (or count) of investments for each main sector in a separate column</li>\n",
    "    <li>The total amount invested in each main sector in a separate column</li>"
   ]
  },
  {
   "cell_type": "code",
   "execution_count": null,
   "metadata": {},
   "outputs": [],
   "source": []
  },
  {
   "cell_type": "code",
   "execution_count": 21,
   "metadata": {},
   "outputs": [],
   "source": [
    "d1_df=pd.DataFrame()\n",
    "d2_df=pd.DataFrame()\n",
    "d3_df=pd.DataFrame()\n",
    "\n",
    "d1_df['sector_cnt'] = d1.groupby(by=['main_sector','country_code']).count()['raised_amount_usd']\n",
    "d2_df['sector_cnt'] = d2.groupby(by=['main_sector','country_code']).count()['raised_amount_usd']\n",
    "d3_df['sector_cnt'] = d3.groupby(by=['main_sector','country_code']).count()['raised_amount_usd']\n",
    "\n",
    "d1_df['sector_sum'] = d1.groupby(by=['main_sector','country_code']).sum()\n",
    "d2_df['sector_sum'] = d2.groupby(by=['main_sector','country_code']).sum()\n",
    "d3_df['sector_sum'] = d3.groupby(by=['main_sector','country_code']).sum()\n",
    "\n"
   ]
  },
  {
   "cell_type": "markdown",
   "metadata": {},
   "source": [
    "Merge Above 2 dataframes on main_sector"
   ]
  },
  {
   "cell_type": "code",
   "execution_count": 22,
   "metadata": {},
   "outputs": [
    {
     "data": {
      "text/html": [
       "<div>\n",
       "<style scoped>\n",
       "    .dataframe tbody tr th:only-of-type {\n",
       "        vertical-align: middle;\n",
       "    }\n",
       "\n",
       "    .dataframe tbody tr th {\n",
       "        vertical-align: top;\n",
       "    }\n",
       "\n",
       "    .dataframe thead th {\n",
       "        text-align: right;\n",
       "    }\n",
       "</style>\n",
       "<table border=\"1\" class=\"dataframe\">\n",
       "  <thead>\n",
       "    <tr style=\"text-align: right;\">\n",
       "      <th></th>\n",
       "      <th>count</th>\n",
       "      <th>sum</th>\n",
       "    </tr>\n",
       "    <tr>\n",
       "      <th>country_code</th>\n",
       "      <th></th>\n",
       "      <th></th>\n",
       "    </tr>\n",
       "  </thead>\n",
       "  <tbody>\n",
       "    <tr>\n",
       "      <th>GBR</th>\n",
       "      <td>621</td>\n",
       "      <td>5379078691.00</td>\n",
       "    </tr>\n",
       "    <tr>\n",
       "      <th>IND</th>\n",
       "      <td>328</td>\n",
       "      <td>2949543602.00</td>\n",
       "    </tr>\n",
       "    <tr>\n",
       "      <th>USA</th>\n",
       "      <td>12063</td>\n",
       "      <td>107757097294.00</td>\n",
       "    </tr>\n",
       "  </tbody>\n",
       "</table>\n",
       "</div>"
      ],
      "text/plain": [
       "              count             sum\n",
       "country_code                       \n",
       "GBR             621   5379078691.00\n",
       "IND             328   2949543602.00\n",
       "USA           12063 107757097294.00"
      ]
     },
     "execution_count": 22,
     "metadata": {},
     "output_type": "execute_result"
    }
   ],
   "source": [
    "test=pd.DataFrame()\n",
    "test['count'] = sector_analysis.groupby(by=['main_sector','country_code']).count()['raised_amount_usd']\n",
    "test['sum']=sector_analysis.groupby(by=['main_sector','country_code']).sum()\n",
    "\n",
    "test.reset_index()\n",
    "#total number of investment\n",
    "test.groupby(by=['country_code']).sum()\n"
   ]
  },
  {
   "cell_type": "code",
   "execution_count": 23,
   "metadata": {},
   "outputs": [],
   "source": [
    "D1=pd.merge(d1,d1_df, on='main_sector')\n",
    "D2=pd.merge(d2,d2_df, on='main_sector')\n",
    "D3=pd.merge(d3,d3_df, on='main_sector')"
   ]
  },
  {
   "cell_type": "markdown",
   "metadata": {},
   "source": [
    "Total Number of Investment and Amount of Investment"
   ]
  },
  {
   "cell_type": "code",
   "execution_count": 24,
   "metadata": {},
   "outputs": [
    {
     "name": "stdout",
     "output_type": "stream",
     "text": [
      "Total number of Investments (count)\n",
      "USA : 12063.0\n",
      "GBR : 621.0\n",
      "IND : 328.0\n",
      "-------------------------------------\n",
      "Total amount of investment (USD)\n",
      "USA : 107757097294.0\n",
      "GBR : 5379078691.0\n",
      "IND : 2949543602.0\n"
     ]
    }
   ],
   "source": [
    "s1=d1_df.sum()\n",
    "s2=d2_df.sum()\n",
    "s3=d3_df.sum()\n",
    "print('Total number of Investments (count)')\n",
    "print(top_3_countrycode[0] +' : ' +str(s1[0]))\n",
    "print(top_3_countrycode[1] +' : ' +str(s2[0]))\n",
    "print(top_3_countrycode[2] +' : ' +str(s3[0]))\n",
    "print('-------------------------------------')\n",
    "print('Total amount of investment (USD)')\n",
    "print(top_3_countrycode[0] +' : ' +str(s1[1]))\n",
    "print(top_3_countrycode[1] +' : ' +str(s2[1]))\n",
    "print(top_3_countrycode[2] +' : ' +str(s3[1]))\n"
   ]
  },
  {
   "cell_type": "markdown",
   "metadata": {},
   "source": [
    "Sectorwise Report"
   ]
  },
  {
   "cell_type": "code",
   "execution_count": 25,
   "metadata": {},
   "outputs": [
    {
     "name": "stdout",
     "output_type": "stream",
     "text": [
      "COUNTRY : USA\n",
      "Sector wise count\n"
     ]
    },
    {
     "data": {
      "text/plain": [
       "main_sector                              country_code\n",
       "Others                                   USA             2950\n",
       "Social, Finance, Analytics, Advertising  USA             2714\n",
       "Cleantech / Semiconductors               USA             2350\n",
       "News, Search and Messaging               USA             1583\n",
       "Health                                   USA              909\n",
       "Manufacturing                            USA              799\n",
       "Entertainment                            USA              591\n",
       "Automotive & Sports                      USA              167\n",
       "Name: sector_cnt, dtype: int64"
      ]
     },
     "execution_count": 25,
     "metadata": {},
     "output_type": "execute_result"
    }
   ],
   "source": [
    "print('COUNTRY : ' + top_3_countrycode[0] + '\\nSector wise count')\n",
    "d1_df.sort_values(by='sector_cnt', ascending=False)['sector_cnt']"
   ]
  },
  {
   "cell_type": "code",
   "execution_count": 26,
   "metadata": {},
   "outputs": [
    {
     "name": "stdout",
     "output_type": "stream",
     "text": [
      "COUNTRY : GBR\n",
      "Sector wise count\n"
     ]
    },
    {
     "data": {
      "text/plain": [
       "main_sector                              country_code\n",
       "Others                                   GBR             147\n",
       "Social, Finance, Analytics, Advertising  GBR             133\n",
       "Cleantech / Semiconductors               GBR             130\n",
       "News, Search and Messaging               GBR              73\n",
       "Entertainment                            GBR              56\n",
       "Manufacturing                            GBR              42\n",
       "Health                                   GBR              24\n",
       "Automotive & Sports                      GBR              16\n",
       "Name: sector_cnt, dtype: int64"
      ]
     },
     "execution_count": 26,
     "metadata": {},
     "output_type": "execute_result"
    }
   ],
   "source": [
    "print('COUNTRY : ' + top_3_countrycode[1] + '\\nSector wise count')\n",
    "d2_df.sort_values(by='sector_cnt', ascending=False)['sector_cnt']"
   ]
  },
  {
   "cell_type": "code",
   "execution_count": 27,
   "metadata": {},
   "outputs": [
    {
     "name": "stdout",
     "output_type": "stream",
     "text": [
      "COUNTRY : IND\n",
      "Sector wise count\n"
     ]
    },
    {
     "data": {
      "text/plain": [
       "main_sector                              country_code\n",
       "Others                                   IND             110\n",
       "Social, Finance, Analytics, Advertising  IND              60\n",
       "News, Search and Messaging               IND              52\n",
       "Entertainment                            IND              33\n",
       "Manufacturing                            IND              21\n",
       "Cleantech / Semiconductors               IND              20\n",
       "Health                                   IND              19\n",
       "Automotive & Sports                      IND              13\n",
       "Name: sector_cnt, dtype: int64"
      ]
     },
     "execution_count": 27,
     "metadata": {},
     "output_type": "execute_result"
    }
   ],
   "source": [
    "print('COUNTRY : ' + top_3_countrycode[2] + '\\nSector wise count')\n",
    "d3_df.sort_values(by='sector_cnt', ascending=False)['sector_cnt']"
   ]
  },
  {
   "cell_type": "code",
   "execution_count": 28,
   "metadata": {},
   "outputs": [],
   "source": [
    "top_sector_count_wise=[]\n",
    "top_sector_count_wise.append(d1_df.sort_values(by='sector_cnt', ascending=False)['sector_cnt'].index[0])\n",
    "top_sector_count_wise.append(d2_df.sort_values(by='sector_cnt', ascending=False)['sector_cnt'].index[0])\n",
    "top_sector_count_wise.append(d3_df.sort_values(by='sector_cnt', ascending=False)['sector_cnt'].index[0])\n",
    "# print('top sector for c1,c2,c3: ' + str(top_sector_count_wise))\n",
    "secondtop_sector_count_wise=[]\n",
    "secondtop_sector_count_wise.append(d1_df.sort_values(by='sector_cnt', ascending=False)['sector_cnt'].index[1])\n",
    "secondtop_sector_count_wise.append(d2_df.sort_values(by='sector_cnt', ascending=False)['sector_cnt'].index[1])\n",
    "secondtop_sector_count_wise.append(d3_df.sort_values(by='sector_cnt', ascending=False)['sector_cnt'].index[1])\n",
    "# print('second top sector for c1,c2,c3: ' + str(secondtop_sector_count_wise))"
   ]
  },
  {
   "cell_type": "markdown",
   "metadata": {},
   "source": [
    "For point 3 (top sector count-wise), which company received the highest investment?"
   ]
  },
  {
   "cell_type": "code",
   "execution_count": 29,
   "metadata": {},
   "outputs": [
    {
     "name": "stdout",
     "output_type": "stream",
     "text": [
      "['/organization/virtustream', '/organization/electric-cloud', '/organization/firstcry-com']\n",
      "C1--> virtustream\n",
      "C2--> electric cloud\n",
      "C3--> firstcry.com\n"
     ]
    }
   ],
   "source": [
    "#print('For point 3 (top sector count-wise), which company received the highest investment?')\n",
    "permalink_hi_inv_top_sctr=[]\n",
    "permalink_hi_inv_top_sctr.append(D1[D1['main_sector']==top_sector_count_wise[0][0]].groupby(by=['permalink']).sum().sort_values(by='raised_amount_usd', ascending=False).index[0])\n",
    "permalink_hi_inv_top_sctr.append(D2[D2['main_sector']==top_sector_count_wise[1][0]].groupby(by=['permalink']).sum().sort_values(by='raised_amount_usd', ascending=False).index[0])\n",
    "permalink_hi_inv_top_sctr.append(D3[D3['main_sector']==top_sector_count_wise[2][0]].groupby(by=['permalink']).sum().sort_values(by='raised_amount_usd', ascending=False).index[0])\n",
    "print(permalink_hi_inv_top_sctr)\n",
    "i=0\n",
    "for link in permalink_hi_inv_top_sctr:\n",
    "    i=i+1\n",
    "    print('C' + str(i) + '--> ' +str(master_frame['name'][master_frame['permalink']==link].unique()[0]))"
   ]
  },
  {
   "cell_type": "markdown",
   "metadata": {},
   "source": [
    "For point 4 (second best sector count-wise), which company received the highest investment?"
   ]
  },
  {
   "cell_type": "code",
   "execution_count": 30,
   "metadata": {},
   "outputs": [
    {
     "name": "stdout",
     "output_type": "stream",
     "text": [
      "For point 4 (second best sector count-wise), which company received the highest investment?\n",
      "C1--> sst inc. (formerly shotspotter)\n",
      "C2--> celltick technologies\n",
      "C3--> manthan systems\n"
     ]
    }
   ],
   "source": [
    "print('For point 4 (second best sector count-wise), which company received the highest investment?')\n",
    "permalink_hi_inv_sectop_sctr=[]\n",
    "permalink_hi_inv_sectop_sctr.append(D1[D1['main_sector']==secondtop_sector_count_wise[0][0]].groupby(by=['permalink']).sum().sort_values(by='raised_amount_usd', ascending=False).index[0])\n",
    "permalink_hi_inv_sectop_sctr.append(D2[D2['main_sector']==secondtop_sector_count_wise[1][0]].groupby(by=['permalink']).sum().sort_values(by='raised_amount_usd', ascending=False).index[0])\n",
    "permalink_hi_inv_sectop_sctr.append(D3[D3['main_sector']==secondtop_sector_count_wise[2][0]].groupby(by=['permalink']).sum().sort_values(by='raised_amount_usd', ascending=False).index[0])\n",
    "\n",
    "i=0\n",
    "for link in permalink_hi_inv_sectop_sctr:\n",
    "    i=i+1\n",
    "    print('C' + str(i) + '--> ' +str(master_frame['name'][master_frame['permalink']==link].unique()[0]))"
   ]
  },
  {
   "cell_type": "markdown",
   "metadata": {},
   "source": [
    "## Checkpoint 6: Plots"
   ]
  },
  {
   "cell_type": "markdown",
   "metadata": {},
   "source": [
    "1. A plot showing the fraction of total investments (globally) in venture, seed, and private equity, and the average amount of investment in each funding type. This chart should make it clear that a certain funding type (FT) is best suited for Spark Funds."
   ]
  },
  {
   "cell_type": "code",
   "execution_count": 31,
   "metadata": {},
   "outputs": [
    {
     "data": {
      "text/html": [
       "<div>\n",
       "<style scoped>\n",
       "    .dataframe tbody tr th:only-of-type {\n",
       "        vertical-align: middle;\n",
       "    }\n",
       "\n",
       "    .dataframe tbody tr th {\n",
       "        vertical-align: top;\n",
       "    }\n",
       "\n",
       "    .dataframe thead th {\n",
       "        text-align: right;\n",
       "    }\n",
       "</style>\n",
       "<table border=\"1\" class=\"dataframe\">\n",
       "  <thead>\n",
       "    <tr style=\"text-align: right;\">\n",
       "      <th></th>\n",
       "      <th>funding_round_type</th>\n",
       "      <th>raised_amount_usd</th>\n",
       "    </tr>\n",
       "  </thead>\n",
       "  <tbody>\n",
       "    <tr>\n",
       "      <th>0</th>\n",
       "      <td>venture</td>\n",
       "      <td>8888550.51</td>\n",
       "    </tr>\n",
       "    <tr>\n",
       "      <th>1</th>\n",
       "      <td>seed</td>\n",
       "      <td>6610420.41</td>\n",
       "    </tr>\n",
       "    <tr>\n",
       "      <th>2</th>\n",
       "      <td>private_equity</td>\n",
       "      <td>9283495.68</td>\n",
       "    </tr>\n",
       "  </tbody>\n",
       "</table>\n",
       "</div>"
      ],
      "text/plain": [
       "  funding_round_type  raised_amount_usd\n",
       "0            venture         8888550.51\n",
       "1               seed         6610420.41\n",
       "2     private_equity         9283495.68"
      ]
     },
     "execution_count": 31,
     "metadata": {},
     "output_type": "execute_result"
    }
   ],
   "source": [
    "#average amount of investment\n",
    "funding_analysis_df_mean=filter_df.groupby('funding_round_type').mean()\n",
    "funding_analysis_df_mean=funding_analysis_df_mean.sort_values('raised_amount_usd')\n",
    "\n",
    "funding_analysis_df_mean=funding_analysis_df_mean.reset_index()\n",
    "avg_inv_df=funding_analysis_df_mean[funding_analysis_df_mean['funding_round_type'].isin(['venture','seed','private_equity'])]\n",
    "avg_inv_df =avg_inv_df.sort_values('funding_round_type', ascending=False).reset_index().drop('index', axis=1)\n",
    "avg_inv_df.head()"
   ]
  },
  {
   "cell_type": "code",
   "execution_count": 32,
   "metadata": {},
   "outputs": [
    {
     "data": {
      "text/html": [
       "<div>\n",
       "<style scoped>\n",
       "    .dataframe tbody tr th:only-of-type {\n",
       "        vertical-align: middle;\n",
       "    }\n",
       "\n",
       "    .dataframe tbody tr th {\n",
       "        vertical-align: top;\n",
       "    }\n",
       "\n",
       "    .dataframe thead th {\n",
       "        text-align: right;\n",
       "    }\n",
       "</style>\n",
       "<table border=\"1\" class=\"dataframe\">\n",
       "  <thead>\n",
       "    <tr style=\"text-align: right;\">\n",
       "      <th></th>\n",
       "      <th>funding_round_type</th>\n",
       "      <th>raised_amount_usd</th>\n",
       "      <th>fraction</th>\n",
       "    </tr>\n",
       "  </thead>\n",
       "  <tbody>\n",
       "    <tr>\n",
       "      <th>8</th>\n",
       "      <td>private_equity</td>\n",
       "      <td>3982619646.00</td>\n",
       "      <td>2.39</td>\n",
       "    </tr>\n",
       "    <tr>\n",
       "      <th>11</th>\n",
       "      <td>seed</td>\n",
       "      <td>1341915343.00</td>\n",
       "      <td>0.81</td>\n",
       "    </tr>\n",
       "    <tr>\n",
       "      <th>13</th>\n",
       "      <td>venture</td>\n",
       "      <td>147532161297.00</td>\n",
       "      <td>88.65</td>\n",
       "    </tr>\n",
       "  </tbody>\n",
       "</table>\n",
       "</div>"
      ],
      "text/plain": [
       "   funding_round_type  raised_amount_usd  fraction\n",
       "8      private_equity      3982619646.00      2.39\n",
       "11               seed      1341915343.00      0.81\n",
       "13            venture    147532161297.00     88.65"
      ]
     },
     "execution_count": 32,
     "metadata": {},
     "output_type": "execute_result"
    }
   ],
   "source": [
    "funding_analysis_fraction_df=filter_df.groupby('funding_round_type').sum()\n",
    "\n",
    "total_funding = filter_df['raised_amount_usd'].sum()\n",
    "# funding_analysis_fraction_df=funding_analysis_df_mean.sort_values('raised_amount_usd')\n",
    "# funding_analysis_fraction_df=funding_analysis_df_mean.reset_index()\n",
    "funding_analysis_fraction_df['fraction']=funding_analysis_fraction_df['raised_amount_usd'].apply(lambda x: x/total_funding * 100)\n",
    "funding_analysis_fraction_df=funding_analysis_fraction_df.reset_index()\n",
    "df_fraction = funding_analysis_fraction_df[funding_analysis_fraction_df['funding_round_type'].isin(['venture','seed','private_equity'])]\n",
    "df_fraction.sort_values('funding_round_type')"
   ]
  },
  {
   "cell_type": "code",
   "execution_count": 33,
   "metadata": {},
   "outputs": [],
   "source": [
    "import seaborn as sns\n",
    "sns.set(style=\"whitegrid\")"
   ]
  },
  {
   "cell_type": "code",
   "execution_count": 34,
   "metadata": {},
   "outputs": [
    {
     "data": {
      "text/plain": [
       "Int64Index([8, 11, 13], dtype='int64')"
      ]
     },
     "execution_count": 34,
     "metadata": {},
     "output_type": "execute_result"
    }
   ],
   "source": [
    "avg_inv_df.index\n",
    "df_fraction.index"
   ]
  },
  {
   "cell_type": "code",
   "execution_count": 35,
   "metadata": {},
   "outputs": [
    {
     "data": {
      "image/png": "[encoded data removed]",
      "text/plain": [
       "<Figure size 720x360 with 1 Axes>"
      ]
     },
     "metadata": {},
     "output_type": "display_data"
    },
    {
     "data": {
      "image/png": "[encoded data removed]",
      "text/plain": [
       "<Figure size 720x360 with 1 Axes>"
      ]
     },
     "metadata": {},
     "output_type": "display_data"
    }
   ],
   "source": [
    "\n",
    "\n",
    "ay = sns.barplot(x=\"funding_round_type\", y=\"fraction\", data=df_fraction, order=avg_inv_df['funding_round_type'])\n",
    "for p in ay.patches:\n",
    "    ay.annotate(format(p.get_height(), '.0f') + '%', (p.get_x() + p.get_width() / 2., p.get_height()), ha = 'center', va = 'center', xytext = (0, 10), textcoords = 'offset points')\n",
    "plt.title(\"Fraction of Total Investments (Globally)\")\n",
    "plt.xlabel('Investment Type')\n",
    "plt.ylabel('Fraction in %')\n",
    "plt.show(ay)\n",
    "\n",
    "#----------------------\n",
    "\n",
    "ax = sns.barplot(x=\"funding_round_type\", y=\"raised_amount_usd\", data=avg_inv_df,order=avg_inv_df['funding_round_type'])\n",
    "for p in ax.patches:\n",
    "    ax.annotate(format(p.get_height(), '.0f'), (p.get_x() + p.get_width() / 2., p.get_height()), ha = 'center', va = 'center', xytext = (0, 10), textcoords = 'offset points')\n",
    "plt.title(\"Average Amount of Investment\")\n",
    "plt.xlabel('Investment Type')\n",
    "plt.ylabel('Average Investment')\n",
    "plt.show(ax)\n",
    "\n"
   ]
  },
  {
   "cell_type": "markdown",
   "metadata": {},
   "source": [
    "2. A plot showing the top 9 countries against the total amount of investments of funding type FT. This should make the top 3 countries (Country 1, Country 2, and Country 3) very clear."
   ]
  },
  {
   "cell_type": "code",
   "execution_count": 36,
   "metadata": {},
   "outputs": [
    {
     "data": {
      "image/png": "[encoded data removed]",
      "text/plain": [
       "<Figure size 720x360 with 1 Axes>"
      ]
     },
     "metadata": {},
     "output_type": "display_data"
    }
   ],
   "source": [
    "\n",
    "\n",
    "ax = plt.subplots()\n",
    "ax = sns.barplot(x=\"country_code\", y=\"raised_amount_usd\", data=top9)\n",
    "# for p in ax.patches:\n",
    "#     ax.annotate(format(p.get_height(), '.2f'), (p.get_x() + p.get_width() / 2., p.get_height()), ha = 'center', va = 'center', xytext = (0, 10), textcoords = 'offset points')\n",
    "#ax=ax.set(yscale=\"log\")\n",
    "plt.title(\"Top Countries vs Total Amount of Investment\")\n",
    "plt.xlabel('Country')\n",
    "plt.ylabel('Total Investment (x 100 Billion $)')\n",
    "plt.show(ax)"
   ]
  },
  {
   "cell_type": "markdown",
   "metadata": {},
   "source": [
    "3. A plot showing the number of investments in the top 3 sectors of the top 3 countries on one chart (for the chosen investment type FT). "
   ]
  },
  {
   "cell_type": "code",
   "execution_count": 37,
   "metadata": {},
   "outputs": [],
   "source": [
    "c1_plot3=D1[D1['main_sector'].isin(['Others','Social, Finance, Analytics, Advertising','Cleantech / Semiconductors'])][['country_code','main_sector','sector_cnt']].drop_duplicates()\n",
    "c2_plot3=D2[D2['main_sector'].isin(['Others','Social, Finance, Analytics, Advertising','Cleantech / Semiconductors'])][['country_code','main_sector','sector_cnt']].drop_duplicates()\n",
    "c3_plot3=D3[D3['main_sector'].isin(['Others','Social, Finance, Analytics, Advertising','News, Search and Messaging'])][['country_code','main_sector','sector_cnt']].drop_duplicates()\n",
    "\n"
   ]
  },
  {
   "cell_type": "code",
   "execution_count": 38,
   "metadata": {},
   "outputs": [
    {
     "data": {
      "text/html": [
       "<div>\n",
       "<style scoped>\n",
       "    .dataframe tbody tr th:only-of-type {\n",
       "        vertical-align: middle;\n",
       "    }\n",
       "\n",
       "    .dataframe tbody tr th {\n",
       "        vertical-align: top;\n",
       "    }\n",
       "\n",
       "    .dataframe thead th {\n",
       "        text-align: right;\n",
       "    }\n",
       "</style>\n",
       "<table border=\"1\" class=\"dataframe\">\n",
       "  <thead>\n",
       "    <tr style=\"text-align: right;\">\n",
       "      <th></th>\n",
       "      <th>country_code</th>\n",
       "      <th>main_sector</th>\n",
       "      <th>sector_cnt</th>\n",
       "    </tr>\n",
       "  </thead>\n",
       "  <tbody>\n",
       "    <tr>\n",
       "      <th>0</th>\n",
       "      <td>USA</td>\n",
       "      <td>Social, Finance, Analytics, Advertising</td>\n",
       "      <td>2714</td>\n",
       "    </tr>\n",
       "    <tr>\n",
       "      <th>4297</th>\n",
       "      <td>USA</td>\n",
       "      <td>Others</td>\n",
       "      <td>2950</td>\n",
       "    </tr>\n",
       "    <tr>\n",
       "      <th>8046</th>\n",
       "      <td>USA</td>\n",
       "      <td>Cleantech / Semiconductors</td>\n",
       "      <td>2350</td>\n",
       "    </tr>\n",
       "    <tr>\n",
       "      <th>0</th>\n",
       "      <td>GBR</td>\n",
       "      <td>Social, Finance, Analytics, Advertising</td>\n",
       "      <td>133</td>\n",
       "    </tr>\n",
       "    <tr>\n",
       "      <th>189</th>\n",
       "      <td>GBR</td>\n",
       "      <td>Cleantech / Semiconductors</td>\n",
       "      <td>130</td>\n",
       "    </tr>\n",
       "    <tr>\n",
       "      <th>416</th>\n",
       "      <td>GBR</td>\n",
       "      <td>Others</td>\n",
       "      <td>147</td>\n",
       "    </tr>\n",
       "    <tr>\n",
       "      <th>33</th>\n",
       "      <td>IND</td>\n",
       "      <td>Others</td>\n",
       "      <td>110</td>\n",
       "    </tr>\n",
       "    <tr>\n",
       "      <th>143</th>\n",
       "      <td>IND</td>\n",
       "      <td>Social, Finance, Analytics, Advertising</td>\n",
       "      <td>60</td>\n",
       "    </tr>\n",
       "    <tr>\n",
       "      <th>236</th>\n",
       "      <td>IND</td>\n",
       "      <td>News, Search and Messaging</td>\n",
       "      <td>52</td>\n",
       "    </tr>\n",
       "  </tbody>\n",
       "</table>\n",
       "</div>"
      ],
      "text/plain": [
       "     country_code                              main_sector  sector_cnt\n",
       "0             USA  Social, Finance, Analytics, Advertising        2714\n",
       "4297          USA                                   Others        2950\n",
       "8046          USA               Cleantech / Semiconductors        2350\n",
       "0             GBR  Social, Finance, Analytics, Advertising         133\n",
       "189           GBR               Cleantech / Semiconductors         130\n",
       "416           GBR                                   Others         147\n",
       "33            IND                                   Others         110\n",
       "143           IND  Social, Finance, Analytics, Advertising          60\n",
       "236           IND               News, Search and Messaging          52"
      ]
     },
     "execution_count": 38,
     "metadata": {},
     "output_type": "execute_result"
    }
   ],
   "source": [
    "plot3=pd.concat([c1_plot3, c2_plot3,c3_plot3], axis=0, sort=True)\n",
    "plot3.head(9)"
   ]
  },
  {
   "cell_type": "code",
   "execution_count": 39,
   "metadata": {},
   "outputs": [
    {
     "data": {
      "image/png": "[encoded data removed]",
      "text/plain": [
       "<Figure size 657.975x288 with 1 Axes>"
      ]
     },
     "metadata": {},
     "output_type": "display_data"
    }
   ],
   "source": [
    "g = sns.catplot(x=\"country_code\", y=\"sector_cnt\",\n",
    "                 hue=\"main_sector\",\n",
    "                 data=plot3, kind=\"bar\", \n",
    "                 hue_order = ['News, Search and Messaging','Others', 'Social, Finance, Analytics, Advertising','Cleantech / Semiconductors'],\n",
    "                 height=4, aspect=1.5);\n"
   ]
  },
  {
   "cell_type": "code",
   "execution_count": null,
   "metadata": {},
   "outputs": [],
   "source": []
  }
 ],
 "metadata": {
  "kernelspec": {
   "display_name": "Python 3",
   "language": "python",
   "name": "python3"
  },
  "language_info": {
   "codemirror_mode": {
    "name": "ipython",
    "version": 3
   },
   "file_extension": ".py",
   "mimetype": "text/x-python",
   "name": "python",
   "nbconvert_exporter": "python",
   "pygments_lexer": "ipython3",
   "version": "3.7.1"
  }
 },
 "nbformat": 4,
 "nbformat_minor": 2
}
